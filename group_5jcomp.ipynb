{
  "nbformat": 4,
  "nbformat_minor": 0,
  "metadata": {
    "colab": {
      "name": "group-5jcomp.ipynb",
      "provenance": []
    },
    "kernelspec": {
      "name": "python3",
      "display_name": "Python 3"
    },
    "language_info": {
      "name": "python"
    }
  },
  "cells": [
    {
      "cell_type": "code",
      "execution_count": 1,
      "metadata": {
        "id": "7WsWiMHKWqVM"
      },
      "outputs": [],
      "source": [
        "import pandas as pd\n",
        "df=pd.read_csv('/content/SeoulBikeData.csv',encoding='ISO-8859-1')"
      ]
    },
    {
      "cell_type": "code",
      "source": [
        "import numpy as np\n",
        "import pandas as pd\n",
        "import matplotlib.pyplot as plt\n",
        "import seaborn as sns"
      ],
      "metadata": {
        "id": "4lqp72v2W2q1"
      },
      "execution_count": 2,
      "outputs": []
    },
    {
      "cell_type": "code",
      "source": [
        "df.head()"
      ],
      "metadata": {
        "colab": {
          "base_uri": "https://localhost:8080/",
          "height": 348
        },
        "id": "muCpAQmlW7IG",
        "outputId": "da4e33fe-9b85-48e3-9985-5f276ece6fce"
      },
      "execution_count": 3,
      "outputs": [
        {
          "output_type": "execute_result",
          "data": {
            "text/html": [
              "<div>\n",
              "<style scoped>\n",
              "    .dataframe tbody tr th:only-of-type {\n",
              "        vertical-align: middle;\n",
              "    }\n",
              "\n",
              "    .dataframe tbody tr th {\n",
              "        vertical-align: top;\n",
              "    }\n",
              "\n",
              "    .dataframe thead th {\n",
              "        text-align: right;\n",
              "    }\n",
              "</style>\n",
              "<table border=\"1\" class=\"dataframe\">\n",
              "  <thead>\n",
              "    <tr style=\"text-align: right;\">\n",
              "      <th></th>\n",
              "      <th>Date</th>\n",
              "      <th>Rented Bike Count</th>\n",
              "      <th>Hour</th>\n",
              "      <th>Temperature(°C)</th>\n",
              "      <th>Humidity(%)</th>\n",
              "      <th>Wind speed (m/s)</th>\n",
              "      <th>Visibility (10m)</th>\n",
              "      <th>Dew point temperature(°C)</th>\n",
              "      <th>Solar Radiation (MJ/m2)</th>\n",
              "      <th>Rainfall(mm)</th>\n",
              "      <th>Snowfall (cm)</th>\n",
              "      <th>Seasons</th>\n",
              "      <th>Holiday</th>\n",
              "      <th>Functioning Day</th>\n",
              "    </tr>\n",
              "  </thead>\n",
              "  <tbody>\n",
              "    <tr>\n",
              "      <th>0</th>\n",
              "      <td>01/12/2017</td>\n",
              "      <td>254</td>\n",
              "      <td>0</td>\n",
              "      <td>-5.2</td>\n",
              "      <td>37</td>\n",
              "      <td>2.2</td>\n",
              "      <td>2000</td>\n",
              "      <td>-17.6</td>\n",
              "      <td>0.0</td>\n",
              "      <td>0.0</td>\n",
              "      <td>0.0</td>\n",
              "      <td>Winter</td>\n",
              "      <td>No Holiday</td>\n",
              "      <td>Yes</td>\n",
              "    </tr>\n",
              "    <tr>\n",
              "      <th>1</th>\n",
              "      <td>01/12/2017</td>\n",
              "      <td>204</td>\n",
              "      <td>1</td>\n",
              "      <td>-5.5</td>\n",
              "      <td>38</td>\n",
              "      <td>0.8</td>\n",
              "      <td>2000</td>\n",
              "      <td>-17.6</td>\n",
              "      <td>0.0</td>\n",
              "      <td>0.0</td>\n",
              "      <td>0.0</td>\n",
              "      <td>Winter</td>\n",
              "      <td>No Holiday</td>\n",
              "      <td>Yes</td>\n",
              "    </tr>\n",
              "    <tr>\n",
              "      <th>2</th>\n",
              "      <td>01/12/2017</td>\n",
              "      <td>173</td>\n",
              "      <td>2</td>\n",
              "      <td>-6.0</td>\n",
              "      <td>39</td>\n",
              "      <td>1.0</td>\n",
              "      <td>2000</td>\n",
              "      <td>-17.7</td>\n",
              "      <td>0.0</td>\n",
              "      <td>0.0</td>\n",
              "      <td>0.0</td>\n",
              "      <td>Winter</td>\n",
              "      <td>No Holiday</td>\n",
              "      <td>Yes</td>\n",
              "    </tr>\n",
              "    <tr>\n",
              "      <th>3</th>\n",
              "      <td>01/12/2017</td>\n",
              "      <td>107</td>\n",
              "      <td>3</td>\n",
              "      <td>-6.2</td>\n",
              "      <td>40</td>\n",
              "      <td>0.9</td>\n",
              "      <td>2000</td>\n",
              "      <td>-17.6</td>\n",
              "      <td>0.0</td>\n",
              "      <td>0.0</td>\n",
              "      <td>0.0</td>\n",
              "      <td>Winter</td>\n",
              "      <td>No Holiday</td>\n",
              "      <td>Yes</td>\n",
              "    </tr>\n",
              "    <tr>\n",
              "      <th>4</th>\n",
              "      <td>01/12/2017</td>\n",
              "      <td>78</td>\n",
              "      <td>4</td>\n",
              "      <td>-6.0</td>\n",
              "      <td>36</td>\n",
              "      <td>2.3</td>\n",
              "      <td>2000</td>\n",
              "      <td>-18.6</td>\n",
              "      <td>0.0</td>\n",
              "      <td>0.0</td>\n",
              "      <td>0.0</td>\n",
              "      <td>Winter</td>\n",
              "      <td>No Holiday</td>\n",
              "      <td>Yes</td>\n",
              "    </tr>\n",
              "  </tbody>\n",
              "</table>\n",
              "</div>"
            ],
            "text/plain": [
              "         Date  Rented Bike Count  Hour  ...  Seasons     Holiday  Functioning Day\n",
              "0  01/12/2017                254     0  ...   Winter  No Holiday              Yes\n",
              "1  01/12/2017                204     1  ...   Winter  No Holiday              Yes\n",
              "2  01/12/2017                173     2  ...   Winter  No Holiday              Yes\n",
              "3  01/12/2017                107     3  ...   Winter  No Holiday              Yes\n",
              "4  01/12/2017                 78     4  ...   Winter  No Holiday              Yes\n",
              "\n",
              "[5 rows x 14 columns]"
            ]
          },
          "metadata": {},
          "execution_count": 3
        }
      ]
    },
    {
      "cell_type": "code",
      "source": [
        "df.tail()"
      ],
      "metadata": {
        "colab": {
          "base_uri": "https://localhost:8080/",
          "height": 348
        },
        "id": "HBisLr0qXA1q",
        "outputId": "e4aadf03-a98c-4d60-ed7a-2e8bbef1e4a5"
      },
      "execution_count": 4,
      "outputs": [
        {
          "output_type": "execute_result",
          "data": {
            "text/html": [
              "<div>\n",
              "<style scoped>\n",
              "    .dataframe tbody tr th:only-of-type {\n",
              "        vertical-align: middle;\n",
              "    }\n",
              "\n",
              "    .dataframe tbody tr th {\n",
              "        vertical-align: top;\n",
              "    }\n",
              "\n",
              "    .dataframe thead th {\n",
              "        text-align: right;\n",
              "    }\n",
              "</style>\n",
              "<table border=\"1\" class=\"dataframe\">\n",
              "  <thead>\n",
              "    <tr style=\"text-align: right;\">\n",
              "      <th></th>\n",
              "      <th>Date</th>\n",
              "      <th>Rented Bike Count</th>\n",
              "      <th>Hour</th>\n",
              "      <th>Temperature(°C)</th>\n",
              "      <th>Humidity(%)</th>\n",
              "      <th>Wind speed (m/s)</th>\n",
              "      <th>Visibility (10m)</th>\n",
              "      <th>Dew point temperature(°C)</th>\n",
              "      <th>Solar Radiation (MJ/m2)</th>\n",
              "      <th>Rainfall(mm)</th>\n",
              "      <th>Snowfall (cm)</th>\n",
              "      <th>Seasons</th>\n",
              "      <th>Holiday</th>\n",
              "      <th>Functioning Day</th>\n",
              "    </tr>\n",
              "  </thead>\n",
              "  <tbody>\n",
              "    <tr>\n",
              "      <th>8755</th>\n",
              "      <td>30/11/2018</td>\n",
              "      <td>1003</td>\n",
              "      <td>19</td>\n",
              "      <td>4.2</td>\n",
              "      <td>34</td>\n",
              "      <td>2.6</td>\n",
              "      <td>1894</td>\n",
              "      <td>-10.3</td>\n",
              "      <td>0.0</td>\n",
              "      <td>0.0</td>\n",
              "      <td>0.0</td>\n",
              "      <td>Autumn</td>\n",
              "      <td>No Holiday</td>\n",
              "      <td>Yes</td>\n",
              "    </tr>\n",
              "    <tr>\n",
              "      <th>8756</th>\n",
              "      <td>30/11/2018</td>\n",
              "      <td>764</td>\n",
              "      <td>20</td>\n",
              "      <td>3.4</td>\n",
              "      <td>37</td>\n",
              "      <td>2.3</td>\n",
              "      <td>2000</td>\n",
              "      <td>-9.9</td>\n",
              "      <td>0.0</td>\n",
              "      <td>0.0</td>\n",
              "      <td>0.0</td>\n",
              "      <td>Autumn</td>\n",
              "      <td>No Holiday</td>\n",
              "      <td>Yes</td>\n",
              "    </tr>\n",
              "    <tr>\n",
              "      <th>8757</th>\n",
              "      <td>30/11/2018</td>\n",
              "      <td>694</td>\n",
              "      <td>21</td>\n",
              "      <td>2.6</td>\n",
              "      <td>39</td>\n",
              "      <td>0.3</td>\n",
              "      <td>1968</td>\n",
              "      <td>-9.9</td>\n",
              "      <td>0.0</td>\n",
              "      <td>0.0</td>\n",
              "      <td>0.0</td>\n",
              "      <td>Autumn</td>\n",
              "      <td>No Holiday</td>\n",
              "      <td>Yes</td>\n",
              "    </tr>\n",
              "    <tr>\n",
              "      <th>8758</th>\n",
              "      <td>30/11/2018</td>\n",
              "      <td>712</td>\n",
              "      <td>22</td>\n",
              "      <td>2.1</td>\n",
              "      <td>41</td>\n",
              "      <td>1.0</td>\n",
              "      <td>1859</td>\n",
              "      <td>-9.8</td>\n",
              "      <td>0.0</td>\n",
              "      <td>0.0</td>\n",
              "      <td>0.0</td>\n",
              "      <td>Autumn</td>\n",
              "      <td>No Holiday</td>\n",
              "      <td>Yes</td>\n",
              "    </tr>\n",
              "    <tr>\n",
              "      <th>8759</th>\n",
              "      <td>30/11/2018</td>\n",
              "      <td>584</td>\n",
              "      <td>23</td>\n",
              "      <td>1.9</td>\n",
              "      <td>43</td>\n",
              "      <td>1.3</td>\n",
              "      <td>1909</td>\n",
              "      <td>-9.3</td>\n",
              "      <td>0.0</td>\n",
              "      <td>0.0</td>\n",
              "      <td>0.0</td>\n",
              "      <td>Autumn</td>\n",
              "      <td>No Holiday</td>\n",
              "      <td>Yes</td>\n",
              "    </tr>\n",
              "  </tbody>\n",
              "</table>\n",
              "</div>"
            ],
            "text/plain": [
              "            Date  Rented Bike Count  Hour  ...  Seasons     Holiday  Functioning Day\n",
              "8755  30/11/2018               1003    19  ...   Autumn  No Holiday              Yes\n",
              "8756  30/11/2018                764    20  ...   Autumn  No Holiday              Yes\n",
              "8757  30/11/2018                694    21  ...   Autumn  No Holiday              Yes\n",
              "8758  30/11/2018                712    22  ...   Autumn  No Holiday              Yes\n",
              "8759  30/11/2018                584    23  ...   Autumn  No Holiday              Yes\n",
              "\n",
              "[5 rows x 14 columns]"
            ]
          },
          "metadata": {},
          "execution_count": 4
        }
      ]
    },
    {
      "cell_type": "code",
      "source": [
        "df=df.fillna(0)"
      ],
      "metadata": {
        "id": "597ZleW4XFha"
      },
      "execution_count": 5,
      "outputs": []
    },
    {
      "cell_type": "code",
      "source": [
        "df.describe"
      ],
      "metadata": {
        "colab": {
          "base_uri": "https://localhost:8080/"
        },
        "id": "yHR-55jeXNfJ",
        "outputId": "133b33d9-2b21-445b-a52f-13f59e49785a"
      },
      "execution_count": 6,
      "outputs": [
        {
          "output_type": "execute_result",
          "data": {
            "text/plain": [
              "<bound method NDFrame.describe of             Date  Rented Bike Count  Hour  ...  Seasons     Holiday  Functioning Day\n",
              "0     01/12/2017                254     0  ...   Winter  No Holiday              Yes\n",
              "1     01/12/2017                204     1  ...   Winter  No Holiday              Yes\n",
              "2     01/12/2017                173     2  ...   Winter  No Holiday              Yes\n",
              "3     01/12/2017                107     3  ...   Winter  No Holiday              Yes\n",
              "4     01/12/2017                 78     4  ...   Winter  No Holiday              Yes\n",
              "...          ...                ...   ...  ...      ...         ...              ...\n",
              "8755  30/11/2018               1003    19  ...   Autumn  No Holiday              Yes\n",
              "8756  30/11/2018                764    20  ...   Autumn  No Holiday              Yes\n",
              "8757  30/11/2018                694    21  ...   Autumn  No Holiday              Yes\n",
              "8758  30/11/2018                712    22  ...   Autumn  No Holiday              Yes\n",
              "8759  30/11/2018                584    23  ...   Autumn  No Holiday              Yes\n",
              "\n",
              "[8760 rows x 14 columns]>"
            ]
          },
          "metadata": {},
          "execution_count": 6
        }
      ]
    },
    {
      "cell_type": "code",
      "source": [
        "x1=df['Hour']\n",
        "x2=df['Humidity(%)']\n",
        "x3=df['Rainfall(mm)']\n",
        "x4=df['Dew point temperature(°C)']\n",
        "x5=df['Snowfall (cm)']\n",
        "x6=df['Solar Radiation (MJ/m2)']\n",
        "x7=df['Temperature(°C)']\n",
        "x8=df['Wind speed (m/s)']\n",
        "x9=df['Visibility (10m)']\n",
        "y=df['Rented Bike Count']\n",
        "size=x1.size\n",
        "print(x1,x2,x3,x4,x5,x6,x7,x8,x9,y)\n"
      ],
      "metadata": {
        "colab": {
          "base_uri": "https://localhost:8080/"
        },
        "id": "2R1z5iK7XO6p",
        "outputId": "96ba9f41-7de6-4e07-8732-16a3002dce25"
      },
      "execution_count": 7,
      "outputs": [
        {
          "output_type": "stream",
          "name": "stdout",
          "text": [
            "0        0\n",
            "1        1\n",
            "2        2\n",
            "3        3\n",
            "4        4\n",
            "        ..\n",
            "8755    19\n",
            "8756    20\n",
            "8757    21\n",
            "8758    22\n",
            "8759    23\n",
            "Name: Hour, Length: 8760, dtype: int64 0       37\n",
            "1       38\n",
            "2       39\n",
            "3       40\n",
            "4       36\n",
            "        ..\n",
            "8755    34\n",
            "8756    37\n",
            "8757    39\n",
            "8758    41\n",
            "8759    43\n",
            "Name: Humidity(%), Length: 8760, dtype: int64 0       0.0\n",
            "1       0.0\n",
            "2       0.0\n",
            "3       0.0\n",
            "4       0.0\n",
            "       ... \n",
            "8755    0.0\n",
            "8756    0.0\n",
            "8757    0.0\n",
            "8758    0.0\n",
            "8759    0.0\n",
            "Name: Rainfall(mm), Length: 8760, dtype: float64 0      -17.6\n",
            "1      -17.6\n",
            "2      -17.7\n",
            "3      -17.6\n",
            "4      -18.6\n",
            "        ... \n",
            "8755   -10.3\n",
            "8756    -9.9\n",
            "8757    -9.9\n",
            "8758    -9.8\n",
            "8759    -9.3\n",
            "Name: Dew point temperature(°C), Length: 8760, dtype: float64 0       0.0\n",
            "1       0.0\n",
            "2       0.0\n",
            "3       0.0\n",
            "4       0.0\n",
            "       ... \n",
            "8755    0.0\n",
            "8756    0.0\n",
            "8757    0.0\n",
            "8758    0.0\n",
            "8759    0.0\n",
            "Name: Snowfall (cm), Length: 8760, dtype: float64 0       0.0\n",
            "1       0.0\n",
            "2       0.0\n",
            "3       0.0\n",
            "4       0.0\n",
            "       ... \n",
            "8755    0.0\n",
            "8756    0.0\n",
            "8757    0.0\n",
            "8758    0.0\n",
            "8759    0.0\n",
            "Name: Solar Radiation (MJ/m2), Length: 8760, dtype: float64 0      -5.2\n",
            "1      -5.5\n",
            "2      -6.0\n",
            "3      -6.2\n",
            "4      -6.0\n",
            "       ... \n",
            "8755    4.2\n",
            "8756    3.4\n",
            "8757    2.6\n",
            "8758    2.1\n",
            "8759    1.9\n",
            "Name: Temperature(°C), Length: 8760, dtype: float64 0       2.2\n",
            "1       0.8\n",
            "2       1.0\n",
            "3       0.9\n",
            "4       2.3\n",
            "       ... \n",
            "8755    2.6\n",
            "8756    2.3\n",
            "8757    0.3\n",
            "8758    1.0\n",
            "8759    1.3\n",
            "Name: Wind speed (m/s), Length: 8760, dtype: float64 0       2000\n",
            "1       2000\n",
            "2       2000\n",
            "3       2000\n",
            "4       2000\n",
            "        ... \n",
            "8755    1894\n",
            "8756    2000\n",
            "8757    1968\n",
            "8758    1859\n",
            "8759    1909\n",
            "Name: Visibility (10m), Length: 8760, dtype: int64 0        254\n",
            "1        204\n",
            "2        173\n",
            "3        107\n",
            "4         78\n",
            "        ... \n",
            "8755    1003\n",
            "8756     764\n",
            "8757     694\n",
            "8758     712\n",
            "8759     584\n",
            "Name: Rented Bike Count, Length: 8760, dtype: int64\n"
          ]
        }
      ]
    },
    {
      "cell_type": "code",
      "source": [
        "import random\n",
        "x1_train=[]\n",
        "x2_train=[]\n",
        "x3_train=[]\n",
        "x4_train=[]\n",
        "x5_train=[]\n",
        "x6_train=[]\n",
        "x7_train=[]\n",
        "x8_train=[]\n",
        "x9_train=[]\n",
        "y_train=[]\n",
        "\n",
        "for j in range(0,1):\n",
        "  for i in range(0,8760,2):\n",
        "    x1_train.append(x1[i])\n",
        "    x2_train.append(x2[i])\n",
        "    x3_train.append(x3[i])\n",
        "    x4_train.append(x4[i])\n",
        "    x5_train.append(x5[i])\n",
        "    x6_train.append(x6[i])\n",
        "    x7_train.append(x7[i])\n",
        "    x8_train.append(x8[i])\n",
        "    x9_train.append(x8[i])\n",
        "    y_train.append(y[i])\n"
      ],
      "metadata": {
        "id": "h849OQrlXV8m"
      },
      "execution_count": 8,
      "outputs": []
    },
    {
      "cell_type": "code",
      "source": [
        "import random\n",
        "x1_train=[]\n",
        "x2_train=[]\n",
        "x3_train=[]\n",
        "x4_train=[]\n",
        "x5_train=[]\n",
        "x6_train=[]\n",
        "x7_train=[]\n",
        "x8_train=[]\n",
        "x9_train=[]\n",
        "y_train=[]\n",
        "\n",
        "for j in range(1,300):\n",
        "  for i in range(0,8760,2):\n",
        "    x1_train.append(x1[i])\n",
        "    x2_train.append(x2[i])\n",
        "    x3_train.append(x3[i])\n",
        "    x4_train.append(x4[i])\n",
        "    x5_train.append(x5[i])\n",
        "    x6_train.append(x6[i])\n",
        "    x7_train.append(x7[i])\n",
        "    x8_train.append(x8[i])\n",
        "    x9_train.append(x8[i])\n",
        "    y_train.append(y[i])\n"
      ],
      "metadata": {
        "id": "bwxo7UD8XmJs"
      },
      "execution_count": 9,
      "outputs": []
    },
    {
      "cell_type": "code",
      "source": [
        "import random\n",
        "x1_train=[]\n",
        "x2_train=[]\n",
        "x3_train=[]\n",
        "x4_train=[]\n",
        "x5_train=[]\n",
        "x6_train=[]\n",
        "x7_train=[]\n",
        "x8_train=[]\n",
        "x9_train=[]\n",
        "y_train=[]\n",
        "\n",
        "for j in range(300,600):\n",
        "  for i in range(0,8760,2):\n",
        "    x1_train.append(x1[i])\n",
        "    x2_train.append(x2[i])\n",
        "    x3_train.append(x3[i])\n",
        "    x4_train.append(x4[i])\n",
        "    x5_train.append(x5[i])\n",
        "    x6_train.append(x6[i])\n",
        "    x7_train.append(x7[i])\n",
        "    x8_train.append(x8[i])\n",
        "    x9_train.append(x8[i])\n",
        "    y_train.append(y[i])"
      ],
      "metadata": {
        "id": "EtOhmxSfYVfi"
      },
      "execution_count": 10,
      "outputs": []
    },
    {
      "cell_type": "code",
      "source": [
        "import random\n",
        "x1_train=[]\n",
        "x2_train=[]\n",
        "x3_train=[]\n",
        "x4_train=[]\n",
        "x5_train=[]\n",
        "x6_train=[]\n",
        "x7_train=[]\n",
        "x8_train=[]\n",
        "x9_train=[]\n",
        "y_train=[]\n",
        "\n",
        "for j in range(600,1000):\n",
        "  for i in range(0,8760,2):\n",
        "    x1_train.append(x1[i])\n",
        "    x2_train.append(x2[i])\n",
        "    x3_train.append(x3[i])\n",
        "    x4_train.append(x4[i])\n",
        "    x5_train.append(x5[i])\n",
        "    x6_train.append(x6[i])\n",
        "    x7_train.append(x7[i])\n",
        "    x8_train.append(x8[i])\n",
        "    x9_train.append(x8[i])\n",
        "    y_train.append(y[i])"
      ],
      "metadata": {
        "id": "GKfGWudKYtvA"
      },
      "execution_count": 11,
      "outputs": []
    },
    {
      "cell_type": "markdown",
      "source": [
        "Mutiple Linear Regression"
      ],
      "metadata": {
        "id": "zu7xJSyRlonH"
      }
    },
    {
      "cell_type": "code",
      "source": [
        "e=[]\n",
        "ee=[]\n",
        "def linear(m1,m2,m3,m4,m5,m6,m7,m8,m9,c):\n",
        "  sum=0\n",
        "  yp=[]\n",
        "  for i in range(0,len(x8_train)):\n",
        "    yp.append(m1*x1_train[i]+m2*x2_train[i]+m3*x3_train[i]+m4*x4_train[i]+m5*x5_train[i]+m6*x6_train[i]+m7*x7_train[i]+m8*x8_train[i]+m9*x9_train[i]+c)\n",
        "    g=(y_train[i]-yp[i])**2\n",
        "    sum=sum+g\n",
        "  e.append(sum)\n",
        "  ee.append(np.mod(sum,len(x1_train)))\n",
        "  print(m1,m2,m3,m4,m5,m6,m7,m8,m9,c,np.mod(sum,len(x9_train)))\n",
        "  sum=0\n",
        "\n",
        "for i in range(1,100):\n",
        "  linear(1+i,2+i,3+i,4+i,5+i,6+i,7+i,8+i,9+i,10+i,)"
      ],
      "metadata": {
        "colab": {
          "base_uri": "https://localhost:8080/"
        },
        "id": "wT4mjM0GZERV",
        "outputId": "8a4b876f-4606-4ac1-97bf-2ce8236fb530"
      },
      "execution_count": 14,
      "outputs": [
        {
          "output_type": "stream",
          "name": "stdout",
          "text": [
            "2 3 4 5 6 7 8 9 10 11 57676.319091796875\n",
            "3 4 5 6 7 8 9 10 11 12 1279739.3533935547\n",
            "4 5 6 7 8 9 10 11 12 13 1642793.9072265625\n",
            "5 6 7 8 9 10 11 12 13 14 1146839.8051757812\n",
            "6 7 8 9 10 11 12 13 14 15 1543878.3762207031\n",
            "7 8 9 10 11 12 13 14 15 16 1081908.9421386719\n",
            "8 9 10 11 12 13 14 15 16 17 1512931.035522461\n",
            "9 10 11 12 13 14 15 16 17 18 1084945.5163574219\n",
            "10 11 12 13 14 15 16 17 18 19 1549951.6552734375\n",
            "11 12 13 14 15 16 17 18 19 20 1155948.6804199219\n",
            "12 13 14 15 16 17 18 19 20 21 1654939.0100097656\n",
            "13 14 15 16 17 18 19 20 21 22 1294920.2055664062\n",
            "14 15 16 17 18 19 20 21 22 23 75893.77734375\n",
            "15 16 17 18 19 20 21 22 23 24 1501860.431640625\n",
            "16 17 18 19 20 21 22 23 24 25 316817.7470703125\n",
            "17 18 19 20 21 22 23 24 25 26 24767.888671875\n",
            "18 19 20 21 22 23 24 25 26 27 625708.3413085938\n",
            "19 20 21 22 23 24 25 26 27 28 367642.5166015625\n",
            "20 21 22 23 24 25 26 27 28 29 1002564.666015625\n",
            "21 22 23 24 25 26 27 28 29 30 778485.0625\n",
            "22 23 24 25 26 27 28 29 30 31 1447388.1748046875\n",
            "23 24 25 26 27 28 29 30 31 32 1257295.4853515625\n",
            "24 25 26 27 28 29 30 31 32 33 208183.7060546875\n",
            "25 26 27 28 29 30 31 32 33 34 52066.3232421875\n",
            "26 27 28 29 30 31 32 33 34 35 788946.7294921875\n",
            "27 28 29 30 31 32 33 34 35 36 666821.552734375\n",
            "28 29 30 31 32 33 34 35 36 37 1437679.521484375\n",
            "29 30 31 32 33 34 35 36 37 38 1349528.16796875\n",
            "30 31 32 33 34 35 36 37 38 39 402377.94140625\n",
            "31 32 33 34 35 36 37 38 39 40 348207.390625\n",
            "32 33 34 35 36 37 38 39 40 41 1187041.4375\n",
            "33 34 35 36 37 38 39 40 41 42 1166858.66015625\n",
            "34 35 36 37 38 39 40 41 42 43 287680.419921875\n",
            "35 36 37 38 39 40 41 42 43 44 301467.8984375\n",
            "36 37 38 39 40 41 42 43 44 45 1208264.666015625\n",
            "37 38 39 40 41 42 43 44 45 46 1256064.8359375\n",
            "38 39 40 41 42 43 44 45 46 47 444842.7109375\n",
            "39 40 41 42 43 44 45 46 47 48 526611.140625\n",
            "40 41 42 43 44 45 46 47 48 49 1501376.06640625\n",
            "41 42 43 44 45 46 47 48 49 50 1617124.5859375\n",
            "42 43 44 45 46 47 48 49 50 51 873885.31640625\n",
            "43 44 45 46 47 48 49 50 51 52 1023616.484375\n",
            "44 45 46 47 48 49 50 51 52 53 314344.03125\n",
            "45 46 47 48 49 50 51 52 53 54 498081.953125\n",
            "46 47 48 49 50 51 52 53 54 55 1574771.88671875\n",
            "47 48 49 50 51 52 53 54 55 56 40509.91015625\n",
            "48 49 50 51 52 53 54 55 56 57 1151183.30078125\n",
            "49 50 51 52 53 54 55 56 57 58 1402893.9375\n",
            "50 51 52 53 54 55 56 57 58 59 795588.40625\n",
            "51 52 53 54 55 56 57 58 59 60 1081206.1328125\n",
            "52 53 54 55 56 57 58 59 60 61 507887.515625\n",
            "53 54 55 56 57 58 59 60 61 62 827557.96875\n",
            "54 55 56 57 58 59 60 61 62 63 288220.6875\n",
            "55 56 57 58 59 60 61 62 63 64 641868.8984375\n",
            "56 57 58 59 60 61 62 63 64 65 136476.4375\n",
            "57 58 59 60 61 62 63 64 65 66 524141.9921875\n",
            "58 59 60 61 62 63 64 65 66 67 52747.09375\n",
            "59 60 61 62 63 64 65 66 67 68 474348.9765625\n",
            "60 61 62 63 64 65 66 67 68 69 36956.9921875\n",
            "61 62 63 64 65 66 67 68 69 70 492562.015625\n",
            "62 63 64 65 66 67 68 69 70 71 89136.71875\n",
            "63 64 65 66 67 68 69 70 71 72 578700.1875\n",
            "64 65 66 67 68 69 70 71 72 73 209253.7890625\n",
            "65 66 67 68 69 70 71 72 73 74 732818.8203125\n",
            "66 67 68 69 70 71 72 73 74 75 397377.5390625\n",
            "67 68 69 70 71 72 73 74 75 76 954942.6484375\n",
            "68 69 70 71 72 73 74 75 76 77 653501.21875\n",
            "69 70 71 72 73 74 75 76 77 78 1245020.6015625\n",
            "70 71 72 73 74 75 76 77 78 79 977572.515625\n",
            "71 72 73 74 75 76 77 78 79 80 1603097.921875\n",
            "72 73 74 75 76 77 78 79 80 81 1369586.390625\n",
            "73 74 75 76 77 78 79 80 81 82 277025.640625\n",
            "74 75 76 77 78 79 80 81 82 83 77520.640625\n",
            "75 76 77 78 79 80 81 82 83 84 771001.53125\n",
            "76 77 78 79 80 81 82 83 84 85 605452.328125\n",
            "77 78 79 80 81 82 83 84 85 86 1332924.421875\n",
            "78 79 80 81 82 83 84 85 86 87 1201406.84375\n",
            "79 80 81 82 83 84 85 86 87 88 210852.390625\n",
            "80 81 82 83 84 85 86 87 88 89 113314.546875\n",
            "81 82 83 84 85 86 87 88 89 90 908738.515625\n",
            "82 83 84 85 86 87 88 89 90 91 845152.34375\n",
            "83 84 85 86 87 88 89 90 91 92 1674500.78125\n",
            "84 85 86 87 88 89 90 91 92 93 1644950.296875\n",
            "85 86 87 88 89 90 91 92 93 94 756411.28125\n",
            "86 87 88 89 90 91 92 93 94 95 760830.609375\n",
            "87 88 89 90 91 92 93 94 95 96 1658093.9375\n",
            "88 89 90 91 92 93 94 95 96 97 1696529.3125\n",
            "89 90 91 92 93 94 95 96 97 98 875883.734375\n",
            "90 91 92 93 94 95 96 97 98 99 948218.9375\n",
            "91 92 93 94 95 96 97 98 99 100 161677.09375\n",
            "92 93 94 95 96 97 98 99 100 101 267935.09375\n",
            "93 94 95 96 97 98 99 100 101 102 1267267.5\n",
            "94 95 96 97 98 99 100 101 102 103 1407638.828125\n",
            "95 96 97 98 99 100 101 102 103 104 689030.90625\n",
            "96 97 98 99 100 101 102 103 104 105 863245.890625\n",
            "97 98 99 100 101 102 103 104 105 106 178538.59375\n",
            "98 99 100 101 102 103 104 105 106 107 386784.53125\n",
            "99 100 101 102 103 104 105 106 107 108 1488104.8125\n",
            "100 101 102 103 104 105 106 107 108 109 1730388.21875\n"
          ]
        }
      ]
    },
    {
      "cell_type": "code",
      "source": [
        "print(ee)"
      ],
      "metadata": {
        "colab": {
          "base_uri": "https://localhost:8080/"
        },
        "id": "y8WKgOZfiAcb",
        "outputId": "1ff1fe4d-62ea-4886-8b36-358fc8b48b8f"
      },
      "execution_count": 15,
      "outputs": [
        {
          "output_type": "stream",
          "name": "stdout",
          "text": [
            "[57676.319091796875, 1279739.3533935547, 1642793.9072265625, 1146839.8051757812, 1543878.3762207031, 1081908.9421386719, 1512931.035522461, 1084945.5163574219, 1549951.6552734375, 1155948.6804199219, 1654939.0100097656, 1294920.2055664062, 75893.77734375, 1501860.431640625, 316817.7470703125, 24767.888671875, 625708.3413085938, 367642.5166015625, 1002564.666015625, 778485.0625, 1447388.1748046875, 1257295.4853515625, 208183.7060546875, 52066.3232421875, 788946.7294921875, 666821.552734375, 1437679.521484375, 1349528.16796875, 402377.94140625, 348207.390625, 1187041.4375, 1166858.66015625, 287680.419921875, 301467.8984375, 1208264.666015625, 1256064.8359375, 444842.7109375, 526611.140625, 1501376.06640625, 1617124.5859375, 873885.31640625, 1023616.484375, 314344.03125, 498081.953125, 1574771.88671875, 40509.91015625, 1151183.30078125, 1402893.9375, 795588.40625, 1081206.1328125, 507887.515625, 827557.96875, 288220.6875, 641868.8984375, 136476.4375, 524141.9921875, 52747.09375, 474348.9765625, 36956.9921875, 492562.015625, 89136.71875, 578700.1875, 209253.7890625, 732818.8203125, 397377.5390625, 954942.6484375, 653501.21875, 1245020.6015625, 977572.515625, 1603097.921875, 1369586.390625, 277025.640625, 77520.640625, 771001.53125, 605452.328125, 1332924.421875, 1201406.84375, 210852.390625, 113314.546875, 908738.515625, 845152.34375, 1674500.78125, 1644950.296875, 756411.28125, 760830.609375, 1658093.9375, 1696529.3125, 875883.734375, 948218.9375, 161677.09375, 267935.09375, 1267267.5, 1407638.828125, 689030.90625, 863245.890625, 178538.59375, 386784.53125, 1488104.8125, 1730388.21875]\n"
          ]
        }
      ]
    },
    {
      "cell_type": "code",
      "source": [
        "a=np.array(ee).min()\n",
        "print(a)\n",
        "c=np.where(ee==a)\n"
      ],
      "metadata": {
        "colab": {
          "base_uri": "https://localhost:8080/"
        },
        "id": "9S3YMahKiK8U",
        "outputId": "7d473bd4-a783-4bcb-964a-046c9ea5974c"
      },
      "execution_count": 16,
      "outputs": [
        {
          "output_type": "stream",
          "name": "stdout",
          "text": [
            "24767.888671875\n"
          ]
        }
      ]
    },
    {
      "cell_type": "code",
      "source": [
        "print(c)\n"
      ],
      "metadata": {
        "colab": {
          "base_uri": "https://localhost:8080/"
        },
        "id": "yM8D0pkkiRCK",
        "outputId": "741a0cf7-c146-4817-de61-04f575496e9d"
      },
      "execution_count": 17,
      "outputs": [
        {
          "output_type": "stream",
          "name": "stdout",
          "text": [
            "(array([15]),)\n"
          ]
        }
      ]
    },
    {
      "cell_type": "code",
      "source": [
        "ee1=np.arange(0,99)\n",
        "print(ee1)"
      ],
      "metadata": {
        "colab": {
          "base_uri": "https://localhost:8080/"
        },
        "id": "wx3VsDEriVxS",
        "outputId": "4fa8ce70-87ff-477a-f705-748252300ffd"
      },
      "execution_count": 18,
      "outputs": [
        {
          "output_type": "stream",
          "name": "stdout",
          "text": [
            "[ 0  1  2  3  4  5  6  7  8  9 10 11 12 13 14 15 16 17 18 19 20 21 22 23\n",
            " 24 25 26 27 28 29 30 31 32 33 34 35 36 37 38 39 40 41 42 43 44 45 46 47\n",
            " 48 49 50 51 52 53 54 55 56 57 58 59 60 61 62 63 64 65 66 67 68 69 70 71\n",
            " 72 73 74 75 76 77 78 79 80 81 82 83 84 85 86 87 88 89 90 91 92 93 94 95\n",
            " 96 97 98]\n"
          ]
        }
      ]
    },
    {
      "cell_type": "markdown",
      "source": [
        "Data Preparation and data Visualisation using Matplotlib"
      ],
      "metadata": {
        "id": "5y4l9r-HkzoP"
      }
    },
    {
      "cell_type": "code",
      "source": [
        "df.plot(x='Date',y='Rented Bike Count',kind='line')"
      ],
      "metadata": {
        "colab": {
          "base_uri": "https://localhost:8080/",
          "height": 296
        },
        "id": "B_VrSWVnk4c3",
        "outputId": "c8bb5c92-1398-4b97-ba15-2a483fdfd17e"
      },
      "execution_count": 20,
      "outputs": [
        {
          "output_type": "execute_result",
          "data": {
            "text/plain": [
              "<matplotlib.axes._subplots.AxesSubplot at 0x7f6f206ea750>"
            ]
          },
          "metadata": {},
          "execution_count": 20
        },
        {
          "output_type": "display_data",
          "data": {
            "image/png": "[encoded data removed]",
            "text/plain": [
              "<Figure size 432x288 with 1 Axes>"
            ]
          },
          "metadata": {
            "needs_background": "light"
          }
        }
      ]
    },
    {
      "cell_type": "code",
      "source": [
        "df.groupby('Seasons').sum()['Rented Bike Count'].plot.pie()"
      ],
      "metadata": {
        "colab": {
          "base_uri": "https://localhost:8080/",
          "height": 265
        },
        "id": "0qIKKAJzk935",
        "outputId": "c8379c4f-d767-4b44-8822-4da5f63d2ab8"
      },
      "execution_count": 21,
      "outputs": [
        {
          "output_type": "execute_result",
          "data": {
            "text/plain": [
              "<matplotlib.axes._subplots.AxesSubplot at 0x7f6f2003d690>"
            ]
          },
          "metadata": {},
          "execution_count": 21
        },
        {
          "output_type": "display_data",
          "data": {
            "image/png": "[encoded data removed]",
            "text/plain": [
              "<Figure size 432x288 with 1 Axes>"
            ]
          },
          "metadata": {}
        }
      ]
    },
    {
      "cell_type": "code",
      "source": [
        "df.groupby('Solar Radiation (MJ/m2)').mean()['Rented Bike Count'].plot()"
      ],
      "metadata": {
        "colab": {
          "base_uri": "https://localhost:8080/",
          "height": 296
        },
        "id": "nNdID48nlFLr",
        "outputId": "f33463ff-9815-448d-bb69-c55cb7ab3583"
      },
      "execution_count": 22,
      "outputs": [
        {
          "output_type": "execute_result",
          "data": {
            "text/plain": [
              "<matplotlib.axes._subplots.AxesSubplot at 0x7f6f1d76eb10>"
            ]
          },
          "metadata": {},
          "execution_count": 22
        },
        {
          "output_type": "display_data",
          "data": {
            "image/png": "[encoded data removed]",
            "text/plain": [
              "<Figure size 432x288 with 1 Axes>"
            ]
          },
          "metadata": {
            "needs_background": "light"
          }
        }
      ]
    },
    {
      "cell_type": "code",
      "source": [
        "df.groupby('Hour').sum()['Rented Bike Count'].plot.bar()\n",
        "df.groupby('Hour').sum()['Rented Bike Count'].plot()"
      ],
      "metadata": {
        "colab": {
          "base_uri": "https://localhost:8080/",
          "height": 296
        },
        "id": "VNdMZrs8lJUQ",
        "outputId": "63827e66-7da6-4810-ebca-39dbc36a7192"
      },
      "execution_count": 23,
      "outputs": [
        {
          "output_type": "execute_result",
          "data": {
            "text/plain": [
              "<matplotlib.axes._subplots.AxesSubplot at 0x7f6f1d76e690>"
            ]
          },
          "metadata": {},
          "execution_count": 23
        },
        {
          "output_type": "display_data",
          "data": {
            "image/png": "[encoded data removed]",
            "text/plain": [
              "<Figure size 432x288 with 1 Axes>"
            ]
          },
          "metadata": {
            "needs_background": "light"
          }
        }
      ]
    },
    {
      "cell_type": "code",
      "source": [
        "df.groupby('Temperature(°C)').mean()['Rented Bike Count'].plot()"
      ],
      "metadata": {
        "colab": {
          "base_uri": "https://localhost:8080/",
          "height": 297
        },
        "id": "gW_u05YulO5Y",
        "outputId": "47439ecc-427a-497d-9161-0b70d6caec94"
      },
      "execution_count": 24,
      "outputs": [
        {
          "output_type": "execute_result",
          "data": {
            "text/plain": [
              "<matplotlib.axes._subplots.AxesSubplot at 0x7f6f1e7146d0>"
            ]
          },
          "metadata": {},
          "execution_count": 24
        },
        {
          "output_type": "display_data",
          "data": {
            "image/png": "[encoded data removed]",
            "text/plain": [
              "<Figure size 432x288 with 1 Axes>"
            ]
          },
          "metadata": {
            "needs_background": "light"
          }
        }
      ]
    },
    {
      "cell_type": "code",
      "source": [
        "df.groupby('Rainfall(mm)').mean()['Rented Bike Count'].plot()"
      ],
      "metadata": {
        "colab": {
          "base_uri": "https://localhost:8080/",
          "height": 300
        },
        "id": "FeWpqH1PlTwA",
        "outputId": "5a1fc196-76bd-402a-f41c-5ebe581b3831"
      },
      "execution_count": 25,
      "outputs": [
        {
          "output_type": "execute_result",
          "data": {
            "text/plain": [
              "<matplotlib.axes._subplots.AxesSubplot at 0x7f6f203469d0>"
            ]
          },
          "metadata": {},
          "execution_count": 25
        },
        {
          "output_type": "display_data",
          "data": {
            "image/png": "[encoded data removed]",
            "text/plain": [
              "<Figure size 432x288 with 1 Axes>"
            ]
          },
          "metadata": {
            "needs_background": "light"
          }
        }
      ]
    },
    {
      "cell_type": "code",
      "source": [
        "df.groupby('Snowfall (cm)').mean()['Rented Bike Count'].plot()"
      ],
      "metadata": {
        "colab": {
          "base_uri": "https://localhost:8080/",
          "height": 296
        },
        "id": "1Q3ucSLqlaAz",
        "outputId": "204d846e-dbe9-4f7d-b2d7-2c27cd1e52db"
      },
      "execution_count": 26,
      "outputs": [
        {
          "output_type": "execute_result",
          "data": {
            "text/plain": [
              "<matplotlib.axes._subplots.AxesSubplot at 0x7f6f20728a10>"
            ]
          },
          "metadata": {},
          "execution_count": 26
        },
        {
          "output_type": "display_data",
          "data": {
            "image/png": "[encoded data removed]",
            "text/plain": [
              "<Figure size 432x288 with 1 Axes>"
            ]
          },
          "metadata": {
            "needs_background": "light"
          }
        }
      ]
    }
  ]
}